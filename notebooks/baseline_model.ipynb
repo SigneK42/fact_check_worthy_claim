{
 "cells": [
  {
   "attachments": {},
   "cell_type": "markdown",
   "metadata": {},
   "source": [
    "# Baseline model"
   ]
  },
  {
   "cell_type": "code",
   "execution_count": 1,
   "metadata": {},
   "outputs": [
    {
     "name": "stderr",
     "output_type": "stream",
     "text": [
      "[nltk_data] Downloading package averaged_perceptron_tagger to\n",
      "[nltk_data]     C:\\Users\\signe\\AppData\\Roaming\\nltk_data...\n",
      "[nltk_data]   Package averaged_perceptron_tagger is already up-to-\n",
      "[nltk_data]       date!\n"
     ]
    }
   ],
   "source": [
    "import pandas as pd\n",
    "import numpy as np\n",
    "\n",
    "import os\n",
    "import sys\n",
    "sys.path.append(os.path.abspath('../src'))\n",
    "\n",
    "import string\n",
    "import nltk\n",
    "from nltk import ngrams\n",
    "\n",
    "# Caching stopwords\n",
    "from nltk.corpus import stopwords\n",
    "nltk.download('stopwords', quiet=True)\n",
    "stop_words = set(stopwords.words('english'))\n",
    "\n",
    "from nltk.stem.porter import PorterStemmer\n",
    "\n",
    "from fact_classification import *\n",
    "\n",
    "from sklearn.feature_extraction.text import TfidfVectorizer\n",
    "from sklearn.ensemble import RandomForestClassifier\n",
    "from sklearn.metrics import f1_score\n",
    "from sklearn.metrics import precision_recall_fscore_support\n"
   ]
  },
  {
   "attachments": {},
   "cell_type": "markdown",
   "metadata": {},
   "source": [
    "## Importing data"
   ]
  },
  {
   "cell_type": "code",
   "execution_count": 2,
   "metadata": {},
   "outputs": [],
   "source": [
    "df, df_crowdsourced, df_ground_truth = data_loading()"
   ]
  },
  {
   "cell_type": "code",
   "execution_count": 3,
   "metadata": {},
   "outputs": [],
   "source": [
    "df_score_test = pd.read_csv('score_test.csv')\n",
    "df_score_train = pd.read_csv('score_train.csv')"
   ]
  },
  {
   "cell_type": "markdown",
   "metadata": {},
   "source": [
    "## Preparing for processing"
   ]
  },
  {
   "attachments": {},
   "cell_type": "markdown",
   "metadata": {},
   "source": [
    "### Preparing text"
   ]
  },
  {
   "cell_type": "code",
   "execution_count": 4,
   "metadata": {},
   "outputs": [
    {
     "data": {
      "text/html": [
       "<div>\n",
       "<style scoped>\n",
       "    .dataframe tbody tr th:only-of-type {\n",
       "        vertical-align: middle;\n",
       "    }\n",
       "\n",
       "    .dataframe tbody tr th {\n",
       "        vertical-align: top;\n",
       "    }\n",
       "\n",
       "    .dataframe thead th {\n",
       "        text-align: right;\n",
       "    }\n",
       "</style>\n",
       "<table border=\"1\" class=\"dataframe\">\n",
       "  <thead>\n",
       "    <tr style=\"text-align: right;\">\n",
       "      <th></th>\n",
       "      <th>Sentence_id</th>\n",
       "      <th>Text</th>\n",
       "      <th>Speaker</th>\n",
       "      <th>Speaker_title</th>\n",
       "      <th>Speaker_party</th>\n",
       "      <th>File_id</th>\n",
       "      <th>Length</th>\n",
       "      <th>Line_number</th>\n",
       "      <th>Sentiment</th>\n",
       "      <th>Verdict</th>\n",
       "    </tr>\n",
       "  </thead>\n",
       "  <tbody>\n",
       "    <tr>\n",
       "      <th>0</th>\n",
       "      <td>16</td>\n",
       "      <td>I think we've seen a deterioration of values.</td>\n",
       "      <td>George Bush</td>\n",
       "      <td>Vice President</td>\n",
       "      <td>REPUBLICAN</td>\n",
       "      <td>1988-09-25.txt</td>\n",
       "      <td>8</td>\n",
       "      <td>16</td>\n",
       "      <td>0.000000</td>\n",
       "      <td>-1</td>\n",
       "    </tr>\n",
       "    <tr>\n",
       "      <th>1</th>\n",
       "      <td>17</td>\n",
       "      <td>I think for a while as a nation we condoned th...</td>\n",
       "      <td>George Bush</td>\n",
       "      <td>Vice President</td>\n",
       "      <td>REPUBLICAN</td>\n",
       "      <td>1988-09-25.txt</td>\n",
       "      <td>16</td>\n",
       "      <td>17</td>\n",
       "      <td>-0.456018</td>\n",
       "      <td>-1</td>\n",
       "    </tr>\n",
       "    <tr>\n",
       "      <th>2</th>\n",
       "      <td>18</td>\n",
       "      <td>For a while, as I recall, it even seems to me ...</td>\n",
       "      <td>George Bush</td>\n",
       "      <td>Vice President</td>\n",
       "      <td>REPUBLICAN</td>\n",
       "      <td>1988-09-25.txt</td>\n",
       "      <td>29</td>\n",
       "      <td>18</td>\n",
       "      <td>-0.805547</td>\n",
       "      <td>-1</td>\n",
       "    </tr>\n",
       "    <tr>\n",
       "      <th>3</th>\n",
       "      <td>19</td>\n",
       "      <td>So we've seen a deterioration in values, and o...</td>\n",
       "      <td>George Bush</td>\n",
       "      <td>Vice President</td>\n",
       "      <td>REPUBLICAN</td>\n",
       "      <td>1988-09-25.txt</td>\n",
       "      <td>35</td>\n",
       "      <td>19</td>\n",
       "      <td>0.698942</td>\n",
       "      <td>-1</td>\n",
       "    </tr>\n",
       "    <tr>\n",
       "      <th>4</th>\n",
       "      <td>20</td>\n",
       "      <td>We got away, we got into this feeling that val...</td>\n",
       "      <td>George Bush</td>\n",
       "      <td>Vice President</td>\n",
       "      <td>REPUBLICAN</td>\n",
       "      <td>1988-09-25.txt</td>\n",
       "      <td>15</td>\n",
       "      <td>20</td>\n",
       "      <td>0.000000</td>\n",
       "      <td>-1</td>\n",
       "    </tr>\n",
       "  </tbody>\n",
       "</table>\n",
       "</div>"
      ],
      "text/plain": [
       "   Sentence_id                                               Text  \\\n",
       "0           16      I think we've seen a deterioration of values.   \n",
       "1           17  I think for a while as a nation we condoned th...   \n",
       "2           18  For a while, as I recall, it even seems to me ...   \n",
       "3           19  So we've seen a deterioration in values, and o...   \n",
       "4           20  We got away, we got into this feeling that val...   \n",
       "\n",
       "       Speaker   Speaker_title Speaker_party         File_id  Length  \\\n",
       "0  George Bush  Vice President    REPUBLICAN  1988-09-25.txt       8   \n",
       "1  George Bush  Vice President    REPUBLICAN  1988-09-25.txt      16   \n",
       "2  George Bush  Vice President    REPUBLICAN  1988-09-25.txt      29   \n",
       "3  George Bush  Vice President    REPUBLICAN  1988-09-25.txt      35   \n",
       "4  George Bush  Vice President    REPUBLICAN  1988-09-25.txt      15   \n",
       "\n",
       "   Line_number  Sentiment  Verdict  \n",
       "0           16   0.000000       -1  \n",
       "1           17  -0.456018       -1  \n",
       "2           18  -0.805547       -1  \n",
       "3           19   0.698942       -1  \n",
       "4           20   0.000000       -1  "
      ]
     },
     "execution_count": 4,
     "metadata": {},
     "output_type": "execute_result"
    }
   ],
   "source": [
    "df.head()"
   ]
  },
  {
   "attachments": {},
   "cell_type": "markdown",
   "metadata": {},
   "source": [
    "## Split into test and train"
   ]
  },
  {
   "attachments": {},
   "cell_type": "markdown",
   "metadata": {},
   "source": [
    "According to the description of the task we shuold split the dataset into test and train based on year of debate. All debates before and including 2008 goes into train and more recent debates into test. (I would also consider making a validation set when we get closer to the end to have a final validation)"
   ]
  },
  {
   "cell_type": "code",
   "execution_count": 5,
   "metadata": {},
   "outputs": [],
   "source": [
    "df_train, df_test = test_train_split(df)"
   ]
  },
  {
   "attachments": {},
   "cell_type": "markdown",
   "metadata": {},
   "source": [
    "### Create the tfid matrix for the text column"
   ]
  },
  {
   "cell_type": "code",
   "execution_count": 6,
   "metadata": {},
   "outputs": [],
   "source": [
    "train_tfid, test_tfid, vocab =  tfid(train = df_train.Text, test = df_test.Text, n_gram_range  = 1)"
   ]
  },
  {
   "cell_type": "code",
   "execution_count": 7,
   "metadata": {},
   "outputs": [
    {
     "data": {
      "text/plain": [
       "<18170x10641 sparse matrix of type '<class 'numpy.float64'>'\n",
       "\twith 277846 stored elements in Compressed Sparse Row format>"
      ]
     },
     "execution_count": 7,
     "metadata": {},
     "output_type": "execute_result"
    }
   ],
   "source": [
    "train_tfid"
   ]
  },
  {
   "cell_type": "code",
   "execution_count": 8,
   "metadata": {},
   "outputs": [
    {
     "data": {
      "text/plain": [
       "<5363x10641 sparse matrix of type '<class 'numpy.float64'>'\n",
       "\twith 70684 stored elements in Compressed Sparse Row format>"
      ]
     },
     "execution_count": 8,
     "metadata": {},
     "output_type": "execute_result"
    }
   ],
   "source": [
    "test_tfid"
   ]
  },
  {
   "attachments": {},
   "cell_type": "markdown",
   "metadata": {},
   "source": [
    "Looks good, I first fitted the vectorizer to the train set (so only words in the train set will be counted) and then transformed the test set using the same vectorizer. They have the same amount of columns which indicate it has been done correctly, keeping them sparse to save storage."
   ]
  },
  {
   "attachments": {},
   "cell_type": "markdown",
   "metadata": {},
   "source": [
    "## Predict using standard models"
   ]
  },
  {
   "attachments": {},
   "cell_type": "markdown",
   "metadata": {},
   "source": [
    "RandomForestClassifier(\n",
    "        max_depth=20,\n",
    "        random_state=42,\n",
    "        class_weight=\"balanced_subsample\",\n",
    "    )\n",
    "\n",
    "The base model"
   ]
  },
  {
   "cell_type": "code",
   "execution_count": 9,
   "metadata": {},
   "outputs": [],
   "source": [
    "pred_train, pred_test = predict_it(train_tfid, df_train.Verdict, test_tfid) # predicting with basemodel"
   ]
  },
  {
   "attachments": {},
   "cell_type": "markdown",
   "metadata": {},
   "source": [
    "## Scoring"
   ]
  },
  {
   "attachments": {},
   "cell_type": "markdown",
   "metadata": {},
   "source": [
    "The score of our base-model is ok, it is important to also consider the scores for individual classes because our data is so unbalanced."
   ]
  },
  {
   "cell_type": "code",
   "execution_count": 10,
   "metadata": {},
   "outputs": [],
   "source": [
    "df_score_test = score_it(df_test.Verdict, pred_test)\n",
    "df_score_train = score_it(df_train.Verdict, pred_train)"
   ]
  },
  {
   "cell_type": "code",
   "execution_count": 11,
   "metadata": {},
   "outputs": [
    {
     "data": {
      "text/html": [
       "<div>\n",
       "<style scoped>\n",
       "    .dataframe tbody tr th:only-of-type {\n",
       "        vertical-align: middle;\n",
       "    }\n",
       "\n",
       "    .dataframe tbody tr th {\n",
       "        vertical-align: top;\n",
       "    }\n",
       "\n",
       "    .dataframe thead th {\n",
       "        text-align: right;\n",
       "    }\n",
       "</style>\n",
       "<table border=\"1\" class=\"dataframe\">\n",
       "  <thead>\n",
       "    <tr style=\"text-align: right;\">\n",
       "      <th></th>\n",
       "      <th>alogrithm</th>\n",
       "      <th>features</th>\n",
       "      <th>p_NFS</th>\n",
       "      <th>p_UFS</th>\n",
       "      <th>p_CFS</th>\n",
       "      <th>p_wavg</th>\n",
       "      <th>r_NFS</th>\n",
       "      <th>r_UFS</th>\n",
       "      <th>r_CFS</th>\n",
       "      <th>r_wavg</th>\n",
       "      <th>f_NFS</th>\n",
       "      <th>f_UFS</th>\n",
       "      <th>f_CFS</th>\n",
       "      <th>f_wavg</th>\n",
       "    </tr>\n",
       "  </thead>\n",
       "  <tbody>\n",
       "    <tr>\n",
       "      <th>0</th>\n",
       "      <td>RandomForrest</td>\n",
       "      <td>tfid</td>\n",
       "      <td>1.0</td>\n",
       "      <td>1.0</td>\n",
       "      <td>1.0</td>\n",
       "      <td>1.0</td>\n",
       "      <td>1.0</td>\n",
       "      <td>1.0</td>\n",
       "      <td>1.0</td>\n",
       "      <td>1.0</td>\n",
       "      <td>1.0</td>\n",
       "      <td>1.0</td>\n",
       "      <td>1.0</td>\n",
       "      <td>1.0</td>\n",
       "    </tr>\n",
       "  </tbody>\n",
       "</table>\n",
       "</div>"
      ],
      "text/plain": [
       "       alogrithm features  p_NFS  p_UFS  p_CFS  p_wavg  r_NFS  r_UFS  r_CFS  \\\n",
       "0  RandomForrest     tfid    1.0    1.0    1.0     1.0    1.0    1.0    1.0   \n",
       "\n",
       "   r_wavg  f_NFS  f_UFS  f_CFS  f_wavg  \n",
       "0     1.0    1.0    1.0    1.0     1.0  "
      ]
     },
     "execution_count": 11,
     "metadata": {},
     "output_type": "execute_result"
    }
   ],
   "source": [
    "df_score_train"
   ]
  },
  {
   "cell_type": "code",
   "execution_count": 12,
   "metadata": {},
   "outputs": [
    {
     "data": {
      "text/html": [
       "<div>\n",
       "<style scoped>\n",
       "    .dataframe tbody tr th:only-of-type {\n",
       "        vertical-align: middle;\n",
       "    }\n",
       "\n",
       "    .dataframe tbody tr th {\n",
       "        vertical-align: top;\n",
       "    }\n",
       "\n",
       "    .dataframe thead th {\n",
       "        text-align: right;\n",
       "    }\n",
       "</style>\n",
       "<table border=\"1\" class=\"dataframe\">\n",
       "  <thead>\n",
       "    <tr style=\"text-align: right;\">\n",
       "      <th></th>\n",
       "      <th>alogrithm</th>\n",
       "      <th>features</th>\n",
       "      <th>p_NFS</th>\n",
       "      <th>p_UFS</th>\n",
       "      <th>p_CFS</th>\n",
       "      <th>p_wavg</th>\n",
       "      <th>r_NFS</th>\n",
       "      <th>r_UFS</th>\n",
       "      <th>r_CFS</th>\n",
       "      <th>r_wavg</th>\n",
       "      <th>f_NFS</th>\n",
       "      <th>f_UFS</th>\n",
       "      <th>f_CFS</th>\n",
       "      <th>f_wavg</th>\n",
       "    </tr>\n",
       "  </thead>\n",
       "  <tbody>\n",
       "    <tr>\n",
       "      <th>0</th>\n",
       "      <td>RandomForrest</td>\n",
       "      <td>tfid</td>\n",
       "      <td>0.67</td>\n",
       "      <td>0.6</td>\n",
       "      <td>0.81</td>\n",
       "      <td>0.7</td>\n",
       "      <td>0.99</td>\n",
       "      <td>0.06</td>\n",
       "      <td>0.23</td>\n",
       "      <td>0.68</td>\n",
       "      <td>0.8</td>\n",
       "      <td>0.11</td>\n",
       "      <td>0.35</td>\n",
       "      <td>0.6</td>\n",
       "    </tr>\n",
       "  </tbody>\n",
       "</table>\n",
       "</div>"
      ],
      "text/plain": [
       "       alogrithm features  p_NFS  p_UFS  p_CFS  p_wavg  r_NFS  r_UFS  r_CFS  \\\n",
       "0  RandomForrest     tfid   0.67    0.6   0.81     0.7   0.99   0.06   0.23   \n",
       "\n",
       "   r_wavg  f_NFS  f_UFS  f_CFS  f_wavg  \n",
       "0    0.68    0.8   0.11   0.35     0.6  "
      ]
     },
     "execution_count": 12,
     "metadata": {},
     "output_type": "execute_result"
    }
   ],
   "source": [
    "df_score_test"
   ]
  },
  {
   "attachments": {},
   "cell_type": "markdown",
   "metadata": {},
   "source": [
    "A very simple randomforrestclassifier based only on the text vectorized gives an accuracy of around 60 percent. We can clearly see that it is strongly overtrained. It will function as a minimum effort baseline model example."
   ]
  },
  {
   "attachments": {},
   "cell_type": "markdown",
   "metadata": {},
   "source": [
    "## Proving the point of checking more than one accuracy measure and your data"
   ]
  },
  {
   "attachments": {},
   "cell_type": "markdown",
   "metadata": {},
   "source": [
    "Making a model which will have a high score but be completely useless. We can predict all -1 and ger an average weighted fscore of nearly 50%..."
   ]
  },
  {
   "cell_type": "code",
   "execution_count": 13,
   "metadata": {},
   "outputs": [],
   "source": [
    "pred_test = stupid_model(df_test.shape[0])\n",
    "pred_train = stupid_model(df_train.shape[0])"
   ]
  },
  {
   "cell_type": "code",
   "execution_count": 14,
   "metadata": {},
   "outputs": [
    {
     "name": "stderr",
     "output_type": "stream",
     "text": [
      "c:\\Users\\signe\\anaconda3\\envs\\model\\lib\\site-packages\\sklearn\\metrics\\_classification.py:1344: UndefinedMetricWarning: Precision and F-score are ill-defined and being set to 0.0 in labels with no predicted samples. Use `zero_division` parameter to control this behavior.\n",
      "  _warn_prf(average, modifier, msg_start, len(result))\n",
      "c:\\Users\\signe\\anaconda3\\envs\\model\\lib\\site-packages\\sklearn\\metrics\\_classification.py:1344: UndefinedMetricWarning: Precision and F-score are ill-defined and being set to 0.0 in labels with no predicted samples. Use `zero_division` parameter to control this behavior.\n",
      "  _warn_prf(average, modifier, msg_start, len(result))\n",
      "c:\\Users\\signe\\anaconda3\\envs\\model\\lib\\site-packages\\sklearn\\metrics\\_classification.py:1344: UndefinedMetricWarning: Precision and F-score are ill-defined and being set to 0.0 in labels with no predicted samples. Use `zero_division` parameter to control this behavior.\n",
      "  _warn_prf(average, modifier, msg_start, len(result))\n",
      "c:\\Users\\signe\\anaconda3\\envs\\model\\lib\\site-packages\\sklearn\\metrics\\_classification.py:1344: UndefinedMetricWarning: Precision and F-score are ill-defined and being set to 0.0 in labels with no predicted samples. Use `zero_division` parameter to control this behavior.\n",
      "  _warn_prf(average, modifier, msg_start, len(result))\n"
     ]
    }
   ],
   "source": [
    "df_score_test = pd.concat([df_score_test, score_it(df_test.Verdict, pred_test, algorithm = 'stupid_model', features = 'none')])\n",
    "df_score_train = pd.concat([df_score_train, score_it(df_train.Verdict, pred_train, algorithm = 'stupid_model', features = 'none')])"
   ]
  },
  {
   "cell_type": "code",
   "execution_count": 15,
   "metadata": {},
   "outputs": [
    {
     "data": {
      "text/html": [
       "<div>\n",
       "<style scoped>\n",
       "    .dataframe tbody tr th:only-of-type {\n",
       "        vertical-align: middle;\n",
       "    }\n",
       "\n",
       "    .dataframe tbody tr th {\n",
       "        vertical-align: top;\n",
       "    }\n",
       "\n",
       "    .dataframe thead th {\n",
       "        text-align: right;\n",
       "    }\n",
       "</style>\n",
       "<table border=\"1\" class=\"dataframe\">\n",
       "  <thead>\n",
       "    <tr style=\"text-align: right;\">\n",
       "      <th></th>\n",
       "      <th>alogrithm</th>\n",
       "      <th>features</th>\n",
       "      <th>p_NFS</th>\n",
       "      <th>p_UFS</th>\n",
       "      <th>p_CFS</th>\n",
       "      <th>p_wavg</th>\n",
       "      <th>r_NFS</th>\n",
       "      <th>r_UFS</th>\n",
       "      <th>r_CFS</th>\n",
       "      <th>r_wavg</th>\n",
       "      <th>f_NFS</th>\n",
       "      <th>f_UFS</th>\n",
       "      <th>f_CFS</th>\n",
       "      <th>f_wavg</th>\n",
       "    </tr>\n",
       "  </thead>\n",
       "  <tbody>\n",
       "    <tr>\n",
       "      <th>0</th>\n",
       "      <td>RandomForrest</td>\n",
       "      <td>tfid</td>\n",
       "      <td>0.67</td>\n",
       "      <td>0.6</td>\n",
       "      <td>0.81</td>\n",
       "      <td>0.70</td>\n",
       "      <td>0.99</td>\n",
       "      <td>0.06</td>\n",
       "      <td>0.23</td>\n",
       "      <td>0.68</td>\n",
       "      <td>0.80</td>\n",
       "      <td>0.11</td>\n",
       "      <td>0.35</td>\n",
       "      <td>0.60</td>\n",
       "    </tr>\n",
       "    <tr>\n",
       "      <th>0</th>\n",
       "      <td>stupid_model</td>\n",
       "      <td>none</td>\n",
       "      <td>0.62</td>\n",
       "      <td>0.0</td>\n",
       "      <td>0.00</td>\n",
       "      <td>0.38</td>\n",
       "      <td>1.00</td>\n",
       "      <td>0.00</td>\n",
       "      <td>0.00</td>\n",
       "      <td>0.62</td>\n",
       "      <td>0.76</td>\n",
       "      <td>0.00</td>\n",
       "      <td>0.00</td>\n",
       "      <td>0.47</td>\n",
       "    </tr>\n",
       "  </tbody>\n",
       "</table>\n",
       "</div>"
      ],
      "text/plain": [
       "       alogrithm features  p_NFS  p_UFS  p_CFS  p_wavg  r_NFS  r_UFS  r_CFS  \\\n",
       "0  RandomForrest     tfid   0.67    0.6   0.81    0.70   0.99   0.06   0.23   \n",
       "0   stupid_model     none   0.62    0.0   0.00    0.38   1.00   0.00   0.00   \n",
       "\n",
       "   r_wavg  f_NFS  f_UFS  f_CFS  f_wavg  \n",
       "0    0.68   0.80   0.11   0.35    0.60  \n",
       "0    0.62   0.76   0.00   0.00    0.47  "
      ]
     },
     "execution_count": 15,
     "metadata": {},
     "output_type": "execute_result"
    }
   ],
   "source": [
    "df_score_test"
   ]
  },
  {
   "cell_type": "code",
   "execution_count": 16,
   "metadata": {},
   "outputs": [
    {
     "data": {
      "text/html": [
       "<div>\n",
       "<style scoped>\n",
       "    .dataframe tbody tr th:only-of-type {\n",
       "        vertical-align: middle;\n",
       "    }\n",
       "\n",
       "    .dataframe tbody tr th {\n",
       "        vertical-align: top;\n",
       "    }\n",
       "\n",
       "    .dataframe thead th {\n",
       "        text-align: right;\n",
       "    }\n",
       "</style>\n",
       "<table border=\"1\" class=\"dataframe\">\n",
       "  <thead>\n",
       "    <tr style=\"text-align: right;\">\n",
       "      <th></th>\n",
       "      <th>alogrithm</th>\n",
       "      <th>features</th>\n",
       "      <th>p_NFS</th>\n",
       "      <th>p_UFS</th>\n",
       "      <th>p_CFS</th>\n",
       "      <th>p_wavg</th>\n",
       "      <th>r_NFS</th>\n",
       "      <th>r_UFS</th>\n",
       "      <th>r_CFS</th>\n",
       "      <th>r_wavg</th>\n",
       "      <th>f_NFS</th>\n",
       "      <th>f_UFS</th>\n",
       "      <th>f_CFS</th>\n",
       "      <th>f_wavg</th>\n",
       "    </tr>\n",
       "  </thead>\n",
       "  <tbody>\n",
       "    <tr>\n",
       "      <th>0</th>\n",
       "      <td>RandomForrest</td>\n",
       "      <td>tfid</td>\n",
       "      <td>1.00</td>\n",
       "      <td>1.0</td>\n",
       "      <td>1.0</td>\n",
       "      <td>1.00</td>\n",
       "      <td>1.0</td>\n",
       "      <td>1.0</td>\n",
       "      <td>1.0</td>\n",
       "      <td>1.00</td>\n",
       "      <td>1.0</td>\n",
       "      <td>1.0</td>\n",
       "      <td>1.0</td>\n",
       "      <td>1.00</td>\n",
       "    </tr>\n",
       "    <tr>\n",
       "      <th>0</th>\n",
       "      <td>stupid_model</td>\n",
       "      <td>none</td>\n",
       "      <td>0.67</td>\n",
       "      <td>0.0</td>\n",
       "      <td>0.0</td>\n",
       "      <td>0.44</td>\n",
       "      <td>1.0</td>\n",
       "      <td>0.0</td>\n",
       "      <td>0.0</td>\n",
       "      <td>0.67</td>\n",
       "      <td>0.8</td>\n",
       "      <td>0.0</td>\n",
       "      <td>0.0</td>\n",
       "      <td>0.53</td>\n",
       "    </tr>\n",
       "  </tbody>\n",
       "</table>\n",
       "</div>"
      ],
      "text/plain": [
       "       alogrithm features  p_NFS  p_UFS  p_CFS  p_wavg  r_NFS  r_UFS  r_CFS  \\\n",
       "0  RandomForrest     tfid   1.00    1.0    1.0    1.00    1.0    1.0    1.0   \n",
       "0   stupid_model     none   0.67    0.0    0.0    0.44    1.0    0.0    0.0   \n",
       "\n",
       "   r_wavg  f_NFS  f_UFS  f_CFS  f_wavg  \n",
       "0    1.00    1.0    1.0    1.0    1.00  \n",
       "0    0.67    0.8    0.0    0.0    0.53  "
      ]
     },
     "execution_count": 16,
     "metadata": {},
     "output_type": "execute_result"
    }
   ],
   "source": [
    "df_score_train"
   ]
  },
  {
   "cell_type": "code",
   "execution_count": 17,
   "metadata": {},
   "outputs": [],
   "source": [
    "df_score_test.to_csv(r'score_test.csv')\n",
    "df_score_train.to_csv(r'score_train.csv')"
   ]
  }
 ],
 "metadata": {
  "kernelspec": {
   "display_name": "base",
   "language": "python",
   "name": "python3"
  },
  "language_info": {
   "codemirror_mode": {
    "name": "ipython",
    "version": 3
   },
   "file_extension": ".py",
   "mimetype": "text/x-python",
   "name": "python",
   "nbconvert_exporter": "python",
   "pygments_lexer": "ipython3",
   "version": "3.9.7"
  },
  "orig_nbformat": 4,
  "vscode": {
   "interpreter": {
    "hash": "6f1af3359ee966fa549b9342c95a66c864e02d3c200665f3410ce643c369b44e"
   }
  }
 },
 "nbformat": 4,
 "nbformat_minor": 2
}
