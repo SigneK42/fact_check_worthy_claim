{
 "cells": [
  {
   "attachments": {},
   "cell_type": "markdown",
   "metadata": {},
   "source": [
    "# Testing different features with RandomForrest"
   ]
  },
  {
   "cell_type": "code",
   "execution_count": 1,
   "metadata": {},
   "outputs": [],
   "source": [
    "import pandas as pd\n",
    "import numpy as np\n",
    "\n",
    "import os\n",
    "import sys\n",
    "sys.path.append(os.path.abspath('../src'))\n",
    "\n",
    "import string\n",
    "import nltk\n",
    "from nltk import ngrams\n",
    "\n",
    "# Caching stopwords\n",
    "from nltk.corpus import stopwords\n",
    "nltk.download('stopwords', quiet=True)\n",
    "stop_words = set(stopwords.words('english'))\n",
    "\n",
    "from nltk.stem.porter import PorterStemmer\n",
    "\n",
    "from fact_classification import *\n",
    "\n",
    "from sklearn.feature_extraction.text import TfidfVectorizer\n",
    "from sklearn.ensemble import RandomForestClassifier\n",
    "from sklearn.metrics import f1_score\n",
    "from sklearn.metrics import precision_recall_fscore_support\n"
   ]
  },
  {
   "cell_type": "code",
   "execution_count": 2,
   "metadata": {},
   "outputs": [],
   "source": [
    "df, df_crowdsourced, df_ground_truth = data_loading()"
   ]
  },
  {
   "attachments": {},
   "cell_type": "markdown",
   "metadata": {},
   "source": [
    "## RandomForrest with non_text labels"
   ]
  },
  {
   "attachments": {},
   "cell_type": "markdown",
   "metadata": {},
   "source": [
    "Using Sentiment and Lenght because these have the highest correlation"
   ]
  },
  {
   "cell_type": "code",
   "execution_count": 3,
   "metadata": {},
   "outputs": [],
   "source": [
    "df['Sentiment'] = df.Sentiment.fillna(df.Sentiment[df.Verdict == -1].mean())"
   ]
  },
  {
   "cell_type": "code",
   "execution_count": 4,
   "metadata": {},
   "outputs": [],
   "source": [
    "df_train, df_test = test_train_split(df)"
   ]
  },
  {
   "cell_type": "code",
   "execution_count": 5,
   "metadata": {},
   "outputs": [
    {
     "data": {
      "text/html": [
       "<div>\n",
       "<style scoped>\n",
       "    .dataframe tbody tr th:only-of-type {\n",
       "        vertical-align: middle;\n",
       "    }\n",
       "\n",
       "    .dataframe tbody tr th {\n",
       "        vertical-align: top;\n",
       "    }\n",
       "\n",
       "    .dataframe thead th {\n",
       "        text-align: right;\n",
       "    }\n",
       "</style>\n",
       "<table border=\"1\" class=\"dataframe\">\n",
       "  <thead>\n",
       "    <tr style=\"text-align: right;\">\n",
       "      <th></th>\n",
       "      <th>Sentence_id</th>\n",
       "      <th>Text</th>\n",
       "      <th>Speaker</th>\n",
       "      <th>Speaker_title</th>\n",
       "      <th>Speaker_party</th>\n",
       "      <th>File_id</th>\n",
       "      <th>Length</th>\n",
       "      <th>Line_number</th>\n",
       "      <th>Sentiment</th>\n",
       "      <th>Verdict</th>\n",
       "      <th>Year</th>\n",
       "    </tr>\n",
       "  </thead>\n",
       "  <tbody>\n",
       "    <tr>\n",
       "      <th>0</th>\n",
       "      <td>16</td>\n",
       "      <td>I think we've seen a deterioration of values.</td>\n",
       "      <td>George Bush</td>\n",
       "      <td>Vice President</td>\n",
       "      <td>REPUBLICAN</td>\n",
       "      <td>1988-09-25.txt</td>\n",
       "      <td>8</td>\n",
       "      <td>16</td>\n",
       "      <td>0.0</td>\n",
       "      <td>-1</td>\n",
       "      <td>1988</td>\n",
       "    </tr>\n",
       "  </tbody>\n",
       "</table>\n",
       "</div>"
      ],
      "text/plain": [
       "   Sentence_id                                           Text      Speaker  \\\n",
       "0           16  I think we've seen a deterioration of values.  George Bush   \n",
       "\n",
       "    Speaker_title Speaker_party         File_id  Length  Line_number  \\\n",
       "0  Vice President    REPUBLICAN  1988-09-25.txt       8           16   \n",
       "\n",
       "   Sentiment  Verdict  Year  \n",
       "0        0.0       -1  1988  "
      ]
     },
     "execution_count": 5,
     "metadata": {},
     "output_type": "execute_result"
    }
   ],
   "source": [
    "df.head(1)"
   ]
  },
  {
   "cell_type": "code",
   "execution_count": 6,
   "metadata": {},
   "outputs": [],
   "source": [
    "method = method=RandomForestClassifier(max_depth = 5,\n",
    "        random_state = 42,\n",
    "        class_weight = \"balanced_subsample\",\n",
    "    )\n",
    "pred_train, pred_test = predict_it(df_train[['Length','Sentiment']], df_train.Verdict, df_test[['Length', 'Sentiment']], method = method)\n",
    "df_score_test = score_it(df_test.Verdict, pred_test, features = 'Sentiment, Length')\n",
    "df_score_train = score_it(df_train.Verdict, pred_train, features = 'Sentiment, Lenght')"
   ]
  },
  {
   "cell_type": "code",
   "execution_count": 7,
   "metadata": {},
   "outputs": [
    {
     "data": {
      "text/html": [
       "<div>\n",
       "<style scoped>\n",
       "    .dataframe tbody tr th:only-of-type {\n",
       "        vertical-align: middle;\n",
       "    }\n",
       "\n",
       "    .dataframe tbody tr th {\n",
       "        vertical-align: top;\n",
       "    }\n",
       "\n",
       "    .dataframe thead th {\n",
       "        text-align: right;\n",
       "    }\n",
       "</style>\n",
       "<table border=\"1\" class=\"dataframe\">\n",
       "  <thead>\n",
       "    <tr style=\"text-align: right;\">\n",
       "      <th></th>\n",
       "      <th>alogrithm</th>\n",
       "      <th>features</th>\n",
       "      <th>p_NFS</th>\n",
       "      <th>p_UFS</th>\n",
       "      <th>p_CFS</th>\n",
       "      <th>p_wavg</th>\n",
       "      <th>r_NFS</th>\n",
       "      <th>r_UFS</th>\n",
       "      <th>r_CFS</th>\n",
       "      <th>r_wavg</th>\n",
       "      <th>f_NFS</th>\n",
       "      <th>f_UFS</th>\n",
       "      <th>f_CFS</th>\n",
       "      <th>f_wavg</th>\n",
       "    </tr>\n",
       "  </thead>\n",
       "  <tbody>\n",
       "    <tr>\n",
       "      <th>0</th>\n",
       "      <td>RandomForrestClassifier</td>\n",
       "      <td>Sentiment, Length</td>\n",
       "      <td>0.705449</td>\n",
       "      <td>0.132019</td>\n",
       "      <td>0.391041</td>\n",
       "      <td>0.555236</td>\n",
       "      <td>0.433615</td>\n",
       "      <td>0.354735</td>\n",
       "      <td>0.453015</td>\n",
       "      <td>0.42961</td>\n",
       "      <td>0.537096</td>\n",
       "      <td>0.192425</td>\n",
       "      <td>0.419753</td>\n",
       "      <td>0.465856</td>\n",
       "    </tr>\n",
       "  </tbody>\n",
       "</table>\n",
       "</div>"
      ],
      "text/plain": [
       "                 alogrithm           features     p_NFS     p_UFS     p_CFS  \\\n",
       "0  RandomForrestClassifier  Sentiment, Length  0.705449  0.132019  0.391041   \n",
       "\n",
       "     p_wavg     r_NFS     r_UFS     r_CFS   r_wavg     f_NFS     f_UFS  \\\n",
       "0  0.555236  0.433615  0.354735  0.453015  0.42961  0.537096  0.192425   \n",
       "\n",
       "      f_CFS    f_wavg  \n",
       "0  0.419753  0.465856  "
      ]
     },
     "execution_count": 7,
     "metadata": {},
     "output_type": "execute_result"
    }
   ],
   "source": [
    "df_score_test"
   ]
  },
  {
   "cell_type": "code",
   "execution_count": 8,
   "metadata": {},
   "outputs": [
    {
     "data": {
      "text/html": [
       "<div>\n",
       "<style scoped>\n",
       "    .dataframe tbody tr th:only-of-type {\n",
       "        vertical-align: middle;\n",
       "    }\n",
       "\n",
       "    .dataframe tbody tr th {\n",
       "        vertical-align: top;\n",
       "    }\n",
       "\n",
       "    .dataframe thead th {\n",
       "        text-align: right;\n",
       "    }\n",
       "</style>\n",
       "<table border=\"1\" class=\"dataframe\">\n",
       "  <thead>\n",
       "    <tr style=\"text-align: right;\">\n",
       "      <th></th>\n",
       "      <th>alogrithm</th>\n",
       "      <th>features</th>\n",
       "      <th>p_NFS</th>\n",
       "      <th>p_UFS</th>\n",
       "      <th>p_CFS</th>\n",
       "      <th>p_wavg</th>\n",
       "      <th>r_NFS</th>\n",
       "      <th>r_UFS</th>\n",
       "      <th>r_CFS</th>\n",
       "      <th>r_wavg</th>\n",
       "      <th>f_NFS</th>\n",
       "      <th>f_UFS</th>\n",
       "      <th>f_CFS</th>\n",
       "      <th>f_wavg</th>\n",
       "    </tr>\n",
       "  </thead>\n",
       "  <tbody>\n",
       "    <tr>\n",
       "      <th>0</th>\n",
       "      <td>RandomForrestClassifier</td>\n",
       "      <td>Sentiment, Lenght</td>\n",
       "      <td>0.801037</td>\n",
       "      <td>0.148975</td>\n",
       "      <td>0.360263</td>\n",
       "      <td>0.632406</td>\n",
       "      <td>0.42117</td>\n",
       "      <td>0.351058</td>\n",
       "      <td>0.63645</td>\n",
       "      <td>0.464117</td>\n",
       "      <td>0.552071</td>\n",
       "      <td>0.209182</td>\n",
       "      <td>0.460091</td>\n",
       "      <td>0.495904</td>\n",
       "    </tr>\n",
       "  </tbody>\n",
       "</table>\n",
       "</div>"
      ],
      "text/plain": [
       "                 alogrithm           features     p_NFS     p_UFS     p_CFS  \\\n",
       "0  RandomForrestClassifier  Sentiment, Lenght  0.801037  0.148975  0.360263   \n",
       "\n",
       "     p_wavg    r_NFS     r_UFS    r_CFS    r_wavg     f_NFS     f_UFS  \\\n",
       "0  0.632406  0.42117  0.351058  0.63645  0.464117  0.552071  0.209182   \n",
       "\n",
       "      f_CFS    f_wavg  \n",
       "0  0.460091  0.495904  "
      ]
     },
     "execution_count": 8,
     "metadata": {},
     "output_type": "execute_result"
    }
   ],
   "source": [
    "df_score_train"
   ]
  },
  {
   "attachments": {},
   "cell_type": "markdown",
   "metadata": {},
   "source": [
    "Using only Sentiment and Lenght gets very low accuracy, to not overfit the max depth of the random forrest is set to 5. "
   ]
  },
  {
   "attachments": {},
   "cell_type": "markdown",
   "metadata": {},
   "source": [
    "## RandomForrest with POS"
   ]
  },
  {
   "cell_type": "code",
   "execution_count": 9,
   "metadata": {},
   "outputs": [
    {
     "name": "stderr",
     "output_type": "stream",
     "text": [
      "[nltk_data] Downloading package averaged_perceptron_tagger to\n",
      "[nltk_data]     C:\\Users\\signe\\AppData\\Roaming\\nltk_data...\n",
      "[nltk_data]   Package averaged_perceptron_tagger is already up-to-\n",
      "[nltk_data]       date!\n"
     ]
    },
    {
     "data": {
      "text/plain": [
       "True"
      ]
     },
     "execution_count": 9,
     "metadata": {},
     "output_type": "execute_result"
    }
   ],
   "source": [
    "from nltk import pos_tag\n",
    "from nltk.tokenize import word_tokenize\n",
    "import nltk\n",
    "nltk.download('averaged_perceptron_tagger')"
   ]
  },
  {
   "cell_type": "code",
   "execution_count": 10,
   "metadata": {},
   "outputs": [],
   "source": [
    "def tokenize(column):\n",
    "    \"\"\"Tokenizes a Pandas dataframe column and returns a list of tokens.\n",
    "\n",
    "    Args:\n",
    "        column: Pandas dataframe column (i.e. df['text']).\n",
    "\n",
    "    Returns:\n",
    "        tokens (list): Tokenized list\n",
    "    \"\"\"\n",
    "\n",
    "    tokens = nltk.word_tokenize(column)\n",
    "    return [w for w in tokens if w.isalpha()]   # stole from  https://practicaldatascience.co.uk/machine-learning/how-to-perform-tokenization-in-nlp-with-nltk-and-python"
   ]
  },
  {
   "cell_type": "code",
   "execution_count": 11,
   "metadata": {},
   "outputs": [
    {
     "data": {
      "text/html": [
       "<div>\n",
       "<style scoped>\n",
       "    .dataframe tbody tr th:only-of-type {\n",
       "        vertical-align: middle;\n",
       "    }\n",
       "\n",
       "    .dataframe tbody tr th {\n",
       "        vertical-align: top;\n",
       "    }\n",
       "\n",
       "    .dataframe thead th {\n",
       "        text-align: right;\n",
       "    }\n",
       "</style>\n",
       "<table border=\"1\" class=\"dataframe\">\n",
       "  <thead>\n",
       "    <tr style=\"text-align: right;\">\n",
       "      <th></th>\n",
       "      <th>tokenized</th>\n",
       "    </tr>\n",
       "  </thead>\n",
       "  <tbody>\n",
       "    <tr>\n",
       "      <th>0</th>\n",
       "      <td>[I, think, we, seen, a, deterioration, of, val...</td>\n",
       "    </tr>\n",
       "    <tr>\n",
       "      <th>1</th>\n",
       "      <td>[I, think, for, a, while, as, a, nation, we, c...</td>\n",
       "    </tr>\n",
       "    <tr>\n",
       "      <th>2</th>\n",
       "      <td>[For, a, while, as, I, recall, it, even, seems...</td>\n",
       "    </tr>\n",
       "    <tr>\n",
       "      <th>3</th>\n",
       "      <td>[So, we, seen, a, deterioration, in, values, a...</td>\n",
       "    </tr>\n",
       "    <tr>\n",
       "      <th>4</th>\n",
       "      <td>[We, got, away, we, got, into, this, feeling, ...</td>\n",
       "    </tr>\n",
       "  </tbody>\n",
       "</table>\n",
       "</div>"
      ],
      "text/plain": [
       "                                           tokenized\n",
       "0  [I, think, we, seen, a, deterioration, of, val...\n",
       "1  [I, think, for, a, while, as, a, nation, we, c...\n",
       "2  [For, a, while, as, I, recall, it, even, seems...\n",
       "3  [So, we, seen, a, deterioration, in, values, a...\n",
       "4  [We, got, away, we, got, into, this, feeling, ..."
      ]
     },
     "execution_count": 11,
     "metadata": {},
     "output_type": "execute_result"
    }
   ],
   "source": [
    "df['tokenized'] = df.apply(lambda x: tokenize(x['Text']), axis=1)\n",
    "df[['tokenized']].head()"
   ]
  },
  {
   "cell_type": "code",
   "execution_count": 12,
   "metadata": {},
   "outputs": [],
   "source": [
    "df['pos_tag'] = df.tokenized.apply(nltk.pos_tag)"
   ]
  },
  {
   "cell_type": "code",
   "execution_count": 13,
   "metadata": {},
   "outputs": [],
   "source": [
    "def get_pos(l):\n",
    "    return str(list(zip(*l))[1])"
   ]
  },
  {
   "cell_type": "code",
   "execution_count": 14,
   "metadata": {},
   "outputs": [],
   "source": [
    "df.pos_tag = df.pos_tag.apply(lambda row: get_pos(row))"
   ]
  },
  {
   "cell_type": "code",
   "execution_count": 15,
   "metadata": {},
   "outputs": [
    {
     "data": {
      "text/plain": [
       "0    ('PRP', 'VBP', 'PRP', 'VBN', 'DT', 'NN', 'IN',...\n",
       "1    ('PRP', 'VBP', 'IN', 'DT', 'NN', 'IN', 'DT', '...\n",
       "2    ('IN', 'DT', 'NN', 'IN', 'PRP', 'VBP', 'PRP', ...\n",
       "3    ('IN', 'PRP', 'VBN', 'DT', 'NN', 'IN', 'NNS', ...\n",
       "4    ('PRP', 'VBD', 'RB', 'PRP', 'VBD', 'IN', 'DT',...\n",
       "Name: pos_tag, dtype: object"
      ]
     },
     "execution_count": 15,
     "metadata": {},
     "output_type": "execute_result"
    }
   ],
   "source": [
    "df.pos_tag.head()"
   ]
  },
  {
   "cell_type": "code",
   "execution_count": 16,
   "metadata": {},
   "outputs": [],
   "source": [
    "df_train, df_test = test_train_split(df)\n",
    "train_tfid, test_tfid, vocabulary =  tfid(train = df_train.pos_tag, test = df_test.pos_tag)\n",
    "method = method=RandomForestClassifier(max_depth = 5,\n",
    "        random_state = 42,\n",
    "        class_weight = \"balanced_subsample\",\n",
    "    )\n",
    "pred_train, pred_test = predict_it(train_tfid, df_train.Verdict, test_tfid, method = method) \n"
   ]
  },
  {
   "cell_type": "code",
   "execution_count": 21,
   "metadata": {},
   "outputs": [
    {
     "name": "stdout",
     "output_type": "stream",
     "text": [
      "None\n"
     ]
    }
   ],
   "source": [
    "print(vocabulary)"
   ]
  },
  {
   "cell_type": "code",
   "execution_count": 17,
   "metadata": {},
   "outputs": [],
   "source": [
    "df_score_test = pd.concat([df_score_test, score_it(df_test.Verdict, pred_test, algorithm = 'RandomForrest', features = 'POS-tagging')])\n",
    "df_score_train = pd.concat([df_score_train, score_it(df_train.Verdict, pred_train, algorithm = 'RandomForrest', features = 'POS-tagging')])"
   ]
  },
  {
   "cell_type": "code",
   "execution_count": 18,
   "metadata": {},
   "outputs": [
    {
     "data": {
      "text/html": [
       "<div>\n",
       "<style scoped>\n",
       "    .dataframe tbody tr th:only-of-type {\n",
       "        vertical-align: middle;\n",
       "    }\n",
       "\n",
       "    .dataframe tbody tr th {\n",
       "        vertical-align: top;\n",
       "    }\n",
       "\n",
       "    .dataframe thead th {\n",
       "        text-align: right;\n",
       "    }\n",
       "</style>\n",
       "<table border=\"1\" class=\"dataframe\">\n",
       "  <thead>\n",
       "    <tr style=\"text-align: right;\">\n",
       "      <th></th>\n",
       "      <th>alogrithm</th>\n",
       "      <th>features</th>\n",
       "      <th>p_NFS</th>\n",
       "      <th>p_UFS</th>\n",
       "      <th>p_CFS</th>\n",
       "      <th>p_wavg</th>\n",
       "      <th>r_NFS</th>\n",
       "      <th>r_UFS</th>\n",
       "      <th>r_CFS</th>\n",
       "      <th>r_wavg</th>\n",
       "      <th>f_NFS</th>\n",
       "      <th>f_UFS</th>\n",
       "      <th>f_CFS</th>\n",
       "      <th>f_wavg</th>\n",
       "    </tr>\n",
       "  </thead>\n",
       "  <tbody>\n",
       "    <tr>\n",
       "      <th>0</th>\n",
       "      <td>RandomForrestClassifier</td>\n",
       "      <td>Sentiment, Length</td>\n",
       "      <td>0.705449</td>\n",
       "      <td>0.132019</td>\n",
       "      <td>0.391041</td>\n",
       "      <td>0.555236</td>\n",
       "      <td>0.433615</td>\n",
       "      <td>0.354735</td>\n",
       "      <td>0.453015</td>\n",
       "      <td>0.429610</td>\n",
       "      <td>0.537096</td>\n",
       "      <td>0.192425</td>\n",
       "      <td>0.419753</td>\n",
       "      <td>0.465856</td>\n",
       "    </tr>\n",
       "    <tr>\n",
       "      <th>0</th>\n",
       "      <td>RandomForrest</td>\n",
       "      <td>POS-tagging</td>\n",
       "      <td>0.803723</td>\n",
       "      <td>0.241800</td>\n",
       "      <td>0.523245</td>\n",
       "      <td>0.663868</td>\n",
       "      <td>0.716657</td>\n",
       "      <td>0.508828</td>\n",
       "      <td>0.402525</td>\n",
       "      <td>0.608988</td>\n",
       "      <td>0.757697</td>\n",
       "      <td>0.327818</td>\n",
       "      <td>0.455014</td>\n",
       "      <td>0.627277</td>\n",
       "    </tr>\n",
       "  </tbody>\n",
       "</table>\n",
       "</div>"
      ],
      "text/plain": [
       "                 alogrithm           features     p_NFS     p_UFS     p_CFS  \\\n",
       "0  RandomForrestClassifier  Sentiment, Length  0.705449  0.132019  0.391041   \n",
       "0            RandomForrest        POS-tagging  0.803723  0.241800  0.523245   \n",
       "\n",
       "     p_wavg     r_NFS     r_UFS     r_CFS    r_wavg     f_NFS     f_UFS  \\\n",
       "0  0.555236  0.433615  0.354735  0.453015  0.429610  0.537096  0.192425   \n",
       "0  0.663868  0.716657  0.508828  0.402525  0.608988  0.757697  0.327818   \n",
       "\n",
       "      f_CFS    f_wavg  \n",
       "0  0.419753  0.465856  \n",
       "0  0.455014  0.627277  "
      ]
     },
     "execution_count": 18,
     "metadata": {},
     "output_type": "execute_result"
    }
   ],
   "source": [
    "df_score_test"
   ]
  },
  {
   "cell_type": "code",
   "execution_count": 19,
   "metadata": {},
   "outputs": [
    {
     "data": {
      "text/html": [
       "<div>\n",
       "<style scoped>\n",
       "    .dataframe tbody tr th:only-of-type {\n",
       "        vertical-align: middle;\n",
       "    }\n",
       "\n",
       "    .dataframe tbody tr th {\n",
       "        vertical-align: top;\n",
       "    }\n",
       "\n",
       "    .dataframe thead th {\n",
       "        text-align: right;\n",
       "    }\n",
       "</style>\n",
       "<table border=\"1\" class=\"dataframe\">\n",
       "  <thead>\n",
       "    <tr style=\"text-align: right;\">\n",
       "      <th></th>\n",
       "      <th>alogrithm</th>\n",
       "      <th>features</th>\n",
       "      <th>p_NFS</th>\n",
       "      <th>p_UFS</th>\n",
       "      <th>p_CFS</th>\n",
       "      <th>p_wavg</th>\n",
       "      <th>r_NFS</th>\n",
       "      <th>r_UFS</th>\n",
       "      <th>r_CFS</th>\n",
       "      <th>r_wavg</th>\n",
       "      <th>f_NFS</th>\n",
       "      <th>f_UFS</th>\n",
       "      <th>f_CFS</th>\n",
       "      <th>f_wavg</th>\n",
       "    </tr>\n",
       "  </thead>\n",
       "  <tbody>\n",
       "    <tr>\n",
       "      <th>0</th>\n",
       "      <td>RandomForrestClassifier</td>\n",
       "      <td>Sentiment, Lenght</td>\n",
       "      <td>0.801037</td>\n",
       "      <td>0.148975</td>\n",
       "      <td>0.360263</td>\n",
       "      <td>0.632406</td>\n",
       "      <td>0.42117</td>\n",
       "      <td>0.351058</td>\n",
       "      <td>0.636450</td>\n",
       "      <td>0.464117</td>\n",
       "      <td>0.552071</td>\n",
       "      <td>0.209182</td>\n",
       "      <td>0.460091</td>\n",
       "      <td>0.495904</td>\n",
       "    </tr>\n",
       "    <tr>\n",
       "      <th>0</th>\n",
       "      <td>RandomForrest</td>\n",
       "      <td>POS-tagging</td>\n",
       "      <td>0.869310</td>\n",
       "      <td>0.266322</td>\n",
       "      <td>0.509989</td>\n",
       "      <td>0.724597</td>\n",
       "      <td>0.72112</td>\n",
       "      <td>0.531199</td>\n",
       "      <td>0.537751</td>\n",
       "      <td>0.659218</td>\n",
       "      <td>0.788311</td>\n",
       "      <td>0.354774</td>\n",
       "      <td>0.523502</td>\n",
       "      <td>0.682762</td>\n",
       "    </tr>\n",
       "  </tbody>\n",
       "</table>\n",
       "</div>"
      ],
      "text/plain": [
       "                 alogrithm           features     p_NFS     p_UFS     p_CFS  \\\n",
       "0  RandomForrestClassifier  Sentiment, Lenght  0.801037  0.148975  0.360263   \n",
       "0            RandomForrest        POS-tagging  0.869310  0.266322  0.509989   \n",
       "\n",
       "     p_wavg    r_NFS     r_UFS     r_CFS    r_wavg     f_NFS     f_UFS  \\\n",
       "0  0.632406  0.42117  0.351058  0.636450  0.464117  0.552071  0.209182   \n",
       "0  0.724597  0.72112  0.531199  0.537751  0.659218  0.788311  0.354774   \n",
       "\n",
       "      f_CFS    f_wavg  \n",
       "0  0.460091  0.495904  \n",
       "0  0.523502  0.682762  "
      ]
     },
     "execution_count": 19,
     "metadata": {},
     "output_type": "execute_result"
    }
   ],
   "source": [
    "df_score_train"
   ]
  },
  {
   "attachments": {},
   "cell_type": "markdown",
   "metadata": {},
   "source": [
    "Better than just using sentiment and length, but still not much better than the baseline model. "
   ]
  },
  {
   "cell_type": "code",
   "execution_count": 17,
   "metadata": {},
   "outputs": [],
   "source": [
    "a = pd.DataFrame(train_tfid.toarray(), columns = vocabulary)"
   ]
  },
  {
   "cell_type": "code",
   "execution_count": 18,
   "metadata": {},
   "outputs": [],
   "source": [
    "a['Verdict'] = df_train.Verdict.values"
   ]
  },
  {
   "cell_type": "code",
   "execution_count": 19,
   "metadata": {},
   "outputs": [
    {
     "data": {
      "text/html": [
       "<div>\n",
       "<style scoped>\n",
       "    .dataframe tbody tr th:only-of-type {\n",
       "        vertical-align: middle;\n",
       "    }\n",
       "\n",
       "    .dataframe tbody tr th {\n",
       "        vertical-align: top;\n",
       "    }\n",
       "\n",
       "    .dataframe thead th {\n",
       "        text-align: right;\n",
       "    }\n",
       "</style>\n",
       "<table border=\"1\" class=\"dataframe\">\n",
       "  <thead>\n",
       "    <tr style=\"text-align: right;\">\n",
       "      <th></th>\n",
       "      <th>cc</th>\n",
       "      <th>cd</th>\n",
       "      <th>dt</th>\n",
       "      <th>ex</th>\n",
       "      <th>fw</th>\n",
       "      <th>in</th>\n",
       "      <th>jj</th>\n",
       "      <th>jjr</th>\n",
       "      <th>jjs</th>\n",
       "      <th>md</th>\n",
       "      <th>...</th>\n",
       "      <th>vb</th>\n",
       "      <th>vbd</th>\n",
       "      <th>vbg</th>\n",
       "      <th>vbn</th>\n",
       "      <th>vbp</th>\n",
       "      <th>vbz</th>\n",
       "      <th>wdt</th>\n",
       "      <th>wp</th>\n",
       "      <th>wrb</th>\n",
       "      <th>Verdict</th>\n",
       "    </tr>\n",
       "  </thead>\n",
       "  <tbody>\n",
       "    <tr>\n",
       "      <th>0</th>\n",
       "      <td>0.0</td>\n",
       "      <td>0.0</td>\n",
       "      <td>0.26435</td>\n",
       "      <td>0.0</td>\n",
       "      <td>0.0</td>\n",
       "      <td>0.266813</td>\n",
       "      <td>0.0</td>\n",
       "      <td>0.0</td>\n",
       "      <td>0.0</td>\n",
       "      <td>0.0</td>\n",
       "      <td>...</td>\n",
       "      <td>0.0</td>\n",
       "      <td>0.0</td>\n",
       "      <td>0.0</td>\n",
       "      <td>0.535821</td>\n",
       "      <td>0.358341</td>\n",
       "      <td>0.0</td>\n",
       "      <td>0.0</td>\n",
       "      <td>0.0</td>\n",
       "      <td>0.0</td>\n",
       "      <td>-1</td>\n",
       "    </tr>\n",
       "  </tbody>\n",
       "</table>\n",
       "<p>1 rows × 32 columns</p>\n",
       "</div>"
      ],
      "text/plain": [
       "    cc   cd       dt   ex   fw        in   jj  jjr  jjs   md  ...   vb  vbd  \\\n",
       "0  0.0  0.0  0.26435  0.0  0.0  0.266813  0.0  0.0  0.0  0.0  ...  0.0  0.0   \n",
       "\n",
       "   vbg       vbn       vbp  vbz  wdt   wp  wrb  Verdict  \n",
       "0  0.0  0.535821  0.358341  0.0  0.0  0.0  0.0       -1  \n",
       "\n",
       "[1 rows x 32 columns]"
      ]
     },
     "execution_count": 19,
     "metadata": {},
     "output_type": "execute_result"
    }
   ],
   "source": [
    "a.head(1)"
   ]
  },
  {
   "cell_type": "code",
   "execution_count": 22,
   "metadata": {},
   "outputs": [
    {
     "data": {
      "text/plain": [
       "rbs    0.001731\n",
       "ex     0.004541\n",
       "fw     0.006304\n",
       "uh     0.007696\n",
       "rbr    0.012837\n",
       "jj     0.015556\n",
       "vbg    0.020498\n",
       "wrb    0.021190\n",
       "pdt    0.021273\n",
       "vbz    0.022486\n",
       "Name: Verdict, dtype: float64"
      ]
     },
     "execution_count": 22,
     "metadata": {},
     "output_type": "execute_result"
    }
   ],
   "source": [
    "a[a.columns].corr()['Verdict'].abs().sort_values(ascending = True)[0:10]\n"
   ]
  },
  {
   "attachments": {},
   "cell_type": "markdown",
   "metadata": {},
   "source": [
    "The most predictive categories are \"vbd, vb, cd, nnp, vbp, prp, md, and in\". These represent verbs, digits, proper nouns, personal noun, modal, and preposition. This seems logical. The least predictive categories are \"rbs, ex, fw, uh, rbr\" they are the adverbs, existential, foreign words, and interjections. Again this makes logical sense, interjections like \"hmm\" and \"erm\" are probably more person dependent and less dependent on the type of sentence. Based on this we choose to only keep the ones which correlate the most and add them to the original dataset as this is not too much data."
   ]
  },
  {
   "cell_type": "code",
   "execution_count": null,
   "metadata": {},
   "outputs": [],
   "source": []
  }
 ],
 "metadata": {
  "kernelspec": {
   "display_name": "model",
   "language": "python",
   "name": "python3"
  },
  "language_info": {
   "codemirror_mode": {
    "name": "ipython",
    "version": 3
   },
   "file_extension": ".py",
   "mimetype": "text/x-python",
   "name": "python",
   "nbconvert_exporter": "python",
   "pygments_lexer": "ipython3",
   "version": "3.9.7"
  },
  "orig_nbformat": 4
 },
 "nbformat": 4,
 "nbformat_minor": 2
}
