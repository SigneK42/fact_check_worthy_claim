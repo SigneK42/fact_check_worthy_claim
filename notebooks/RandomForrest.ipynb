{
 "cells": [
  {
   "attachments": {},
   "cell_type": "markdown",
   "metadata": {},
   "source": [
    "# Testing different features with RandomForrest"
   ]
  },
  {
   "cell_type": "code",
   "execution_count": 1,
   "metadata": {},
   "outputs": [
    {
     "name": "stderr",
     "output_type": "stream",
     "text": [
      "[nltk_data] Downloading package averaged_perceptron_tagger to\n",
      "[nltk_data]     C:\\Users\\signe\\AppData\\Roaming\\nltk_data...\n",
      "[nltk_data]   Package averaged_perceptron_tagger is already up-to-\n",
      "[nltk_data]       date!\n"
     ]
    }
   ],
   "source": [
    "import pandas as pd\n",
    "import numpy as np\n",
    "\n",
    "import os\n",
    "import sys\n",
    "sys.path.append(os.path.abspath('../src'))\n",
    "\n",
    "import string\n",
    "import nltk\n",
    "from nltk import ngrams\n",
    "\n",
    "# Caching stopwords\n",
    "from nltk.corpus import stopwords\n",
    "nltk.download('stopwords', quiet=True)\n",
    "stop_words = set(stopwords.words('english'))\n",
    "\n",
    "from nltk.stem.porter import PorterStemmer\n",
    "\n",
    "from fact_classification import *\n",
    "\n",
    "from sklearn.feature_extraction.text import TfidfVectorizer\n",
    "from sklearn.ensemble import RandomForestClassifier\n",
    "from sklearn.metrics import f1_score\n",
    "from sklearn.metrics import precision_recall_fscore_support\n"
   ]
  },
  {
   "cell_type": "code",
   "execution_count": 2,
   "metadata": {},
   "outputs": [],
   "source": [
    "df, df_crowdsourced, df_ground_truth = data_loading()"
   ]
  },
  {
   "attachments": {},
   "cell_type": "markdown",
   "metadata": {},
   "source": [
    "## RandomForrest with non_text labels"
   ]
  },
  {
   "attachments": {},
   "cell_type": "markdown",
   "metadata": {},
   "source": [
    "Using Sentiment and Lenght because these have the highest correlation"
   ]
  },
  {
   "cell_type": "code",
   "execution_count": 3,
   "metadata": {},
   "outputs": [],
   "source": [
    "df['Sentiment'] = df.Sentiment.fillna(df.Sentiment[df.Verdict == -1].mean())"
   ]
  },
  {
   "cell_type": "code",
   "execution_count": 4,
   "metadata": {},
   "outputs": [],
   "source": [
    "df_train, df_test = test_train_split(df)"
   ]
  },
  {
   "cell_type": "code",
   "execution_count": 5,
   "metadata": {},
   "outputs": [
    {
     "data": {
      "text/html": [
       "<div>\n",
       "<style scoped>\n",
       "    .dataframe tbody tr th:only-of-type {\n",
       "        vertical-align: middle;\n",
       "    }\n",
       "\n",
       "    .dataframe tbody tr th {\n",
       "        vertical-align: top;\n",
       "    }\n",
       "\n",
       "    .dataframe thead th {\n",
       "        text-align: right;\n",
       "    }\n",
       "</style>\n",
       "<table border=\"1\" class=\"dataframe\">\n",
       "  <thead>\n",
       "    <tr style=\"text-align: right;\">\n",
       "      <th></th>\n",
       "      <th>Sentence_id</th>\n",
       "      <th>Text</th>\n",
       "      <th>Speaker</th>\n",
       "      <th>Speaker_title</th>\n",
       "      <th>Speaker_party</th>\n",
       "      <th>File_id</th>\n",
       "      <th>Length</th>\n",
       "      <th>Line_number</th>\n",
       "      <th>Sentiment</th>\n",
       "      <th>Verdict</th>\n",
       "      <th>Year</th>\n",
       "    </tr>\n",
       "  </thead>\n",
       "  <tbody>\n",
       "    <tr>\n",
       "      <th>0</th>\n",
       "      <td>16</td>\n",
       "      <td>I think we've seen a deterioration of values.</td>\n",
       "      <td>George Bush</td>\n",
       "      <td>Vice President</td>\n",
       "      <td>REPUBLICAN</td>\n",
       "      <td>1988-09-25.txt</td>\n",
       "      <td>8</td>\n",
       "      <td>16</td>\n",
       "      <td>0.0</td>\n",
       "      <td>-1</td>\n",
       "      <td>1988</td>\n",
       "    </tr>\n",
       "  </tbody>\n",
       "</table>\n",
       "</div>"
      ],
      "text/plain": [
       "   Sentence_id                                           Text      Speaker  \\\n",
       "0           16  I think we've seen a deterioration of values.  George Bush   \n",
       "\n",
       "    Speaker_title Speaker_party         File_id  Length  Line_number  \\\n",
       "0  Vice President    REPUBLICAN  1988-09-25.txt       8           16   \n",
       "\n",
       "   Sentiment  Verdict  Year  \n",
       "0        0.0       -1  1988  "
      ]
     },
     "execution_count": 5,
     "metadata": {},
     "output_type": "execute_result"
    }
   ],
   "source": [
    "df.head(1)"
   ]
  },
  {
   "cell_type": "code",
   "execution_count": 6,
   "metadata": {},
   "outputs": [],
   "source": [
    "method = method=RandomForestClassifier(max_depth = 5,\n",
    "        random_state = 42,\n",
    "        class_weight = \"balanced_subsample\",\n",
    "    )\n",
    "pred_train, pred_test = predict_it(df_train[['Length','Sentiment']], df_train.Verdict, df_test[['Length', 'Sentiment']], method = method)\n",
    "df_score_test = score_it(df_test.Verdict, pred_test, features = 'Sentiment, Length')\n",
    "df_score_train = score_it(df_train.Verdict, pred_train, features = 'Sentiment, Lenght')"
   ]
  },
  {
   "cell_type": "code",
   "execution_count": 7,
   "metadata": {},
   "outputs": [
    {
     "data": {
      "text/html": [
       "<div>\n",
       "<style scoped>\n",
       "    .dataframe tbody tr th:only-of-type {\n",
       "        vertical-align: middle;\n",
       "    }\n",
       "\n",
       "    .dataframe tbody tr th {\n",
       "        vertical-align: top;\n",
       "    }\n",
       "\n",
       "    .dataframe thead th {\n",
       "        text-align: right;\n",
       "    }\n",
       "</style>\n",
       "<table border=\"1\" class=\"dataframe\">\n",
       "  <thead>\n",
       "    <tr style=\"text-align: right;\">\n",
       "      <th></th>\n",
       "      <th>alogrithm</th>\n",
       "      <th>features</th>\n",
       "      <th>p_NFS</th>\n",
       "      <th>p_UFS</th>\n",
       "      <th>p_CFS</th>\n",
       "      <th>p_wavg</th>\n",
       "      <th>r_NFS</th>\n",
       "      <th>r_UFS</th>\n",
       "      <th>r_CFS</th>\n",
       "      <th>r_wavg</th>\n",
       "      <th>f_NFS</th>\n",
       "      <th>f_UFS</th>\n",
       "      <th>f_CFS</th>\n",
       "      <th>f_wavg</th>\n",
       "    </tr>\n",
       "  </thead>\n",
       "  <tbody>\n",
       "    <tr>\n",
       "      <th>0</th>\n",
       "      <td>RandomForrest</td>\n",
       "      <td>Sentiment, Length</td>\n",
       "      <td>0.705449</td>\n",
       "      <td>0.132019</td>\n",
       "      <td>0.391041</td>\n",
       "      <td>0.555236</td>\n",
       "      <td>0.433615</td>\n",
       "      <td>0.354735</td>\n",
       "      <td>0.453015</td>\n",
       "      <td>0.42961</td>\n",
       "      <td>0.537096</td>\n",
       "      <td>0.192425</td>\n",
       "      <td>0.419753</td>\n",
       "      <td>0.465856</td>\n",
       "    </tr>\n",
       "  </tbody>\n",
       "</table>\n",
       "</div>"
      ],
      "text/plain": [
       "       alogrithm           features     p_NFS     p_UFS     p_CFS    p_wavg  \\\n",
       "0  RandomForrest  Sentiment, Length  0.705449  0.132019  0.391041  0.555236   \n",
       "\n",
       "      r_NFS     r_UFS     r_CFS   r_wavg     f_NFS     f_UFS     f_CFS  \\\n",
       "0  0.433615  0.354735  0.453015  0.42961  0.537096  0.192425  0.419753   \n",
       "\n",
       "     f_wavg  \n",
       "0  0.465856  "
      ]
     },
     "execution_count": 7,
     "metadata": {},
     "output_type": "execute_result"
    }
   ],
   "source": [
    "df_score_test"
   ]
  },
  {
   "cell_type": "code",
   "execution_count": 8,
   "metadata": {},
   "outputs": [
    {
     "data": {
      "text/html": [
       "<div>\n",
       "<style scoped>\n",
       "    .dataframe tbody tr th:only-of-type {\n",
       "        vertical-align: middle;\n",
       "    }\n",
       "\n",
       "    .dataframe tbody tr th {\n",
       "        vertical-align: top;\n",
       "    }\n",
       "\n",
       "    .dataframe thead th {\n",
       "        text-align: right;\n",
       "    }\n",
       "</style>\n",
       "<table border=\"1\" class=\"dataframe\">\n",
       "  <thead>\n",
       "    <tr style=\"text-align: right;\">\n",
       "      <th></th>\n",
       "      <th>alogrithm</th>\n",
       "      <th>features</th>\n",
       "      <th>p_NFS</th>\n",
       "      <th>p_UFS</th>\n",
       "      <th>p_CFS</th>\n",
       "      <th>p_wavg</th>\n",
       "      <th>r_NFS</th>\n",
       "      <th>r_UFS</th>\n",
       "      <th>r_CFS</th>\n",
       "      <th>r_wavg</th>\n",
       "      <th>f_NFS</th>\n",
       "      <th>f_UFS</th>\n",
       "      <th>f_CFS</th>\n",
       "      <th>f_wavg</th>\n",
       "    </tr>\n",
       "  </thead>\n",
       "  <tbody>\n",
       "    <tr>\n",
       "      <th>0</th>\n",
       "      <td>RandomForrest</td>\n",
       "      <td>Sentiment, Lenght</td>\n",
       "      <td>0.801037</td>\n",
       "      <td>0.148975</td>\n",
       "      <td>0.360263</td>\n",
       "      <td>0.632406</td>\n",
       "      <td>0.42117</td>\n",
       "      <td>0.351058</td>\n",
       "      <td>0.63645</td>\n",
       "      <td>0.464117</td>\n",
       "      <td>0.552071</td>\n",
       "      <td>0.209182</td>\n",
       "      <td>0.460091</td>\n",
       "      <td>0.495904</td>\n",
       "    </tr>\n",
       "  </tbody>\n",
       "</table>\n",
       "</div>"
      ],
      "text/plain": [
       "       alogrithm           features     p_NFS     p_UFS     p_CFS    p_wavg  \\\n",
       "0  RandomForrest  Sentiment, Lenght  0.801037  0.148975  0.360263  0.632406   \n",
       "\n",
       "     r_NFS     r_UFS    r_CFS    r_wavg     f_NFS     f_UFS     f_CFS  \\\n",
       "0  0.42117  0.351058  0.63645  0.464117  0.552071  0.209182  0.460091   \n",
       "\n",
       "     f_wavg  \n",
       "0  0.495904  "
      ]
     },
     "execution_count": 8,
     "metadata": {},
     "output_type": "execute_result"
    }
   ],
   "source": [
    "df_score_train"
   ]
  },
  {
   "attachments": {},
   "cell_type": "markdown",
   "metadata": {},
   "source": [
    "Using only Sentiment and Lenght gets very low accuracy, to not overfit the max depth of the random forrest is set to 5. "
   ]
  },
  {
   "attachments": {},
   "cell_type": "markdown",
   "metadata": {},
   "source": [
    "## RandomForrest with POS"
   ]
  },
  {
   "cell_type": "code",
   "execution_count": 9,
   "metadata": {},
   "outputs": [],
   "source": [
    "df['pos_tag'] = pos_tag_(df)"
   ]
  },
  {
   "cell_type": "code",
   "execution_count": 10,
   "metadata": {},
   "outputs": [
    {
     "data": {
      "text/plain": [
       "0    ('PRP', 'VBP', 'PRP', 'VBN', 'DT', 'NN', 'IN',...\n",
       "1    ('PRP', 'VBP', 'IN', 'DT', 'NN', 'IN', 'DT', '...\n",
       "2    ('IN', 'DT', 'NN', 'IN', 'PRP', 'VBP', 'PRP', ...\n",
       "3    ('IN', 'PRP', 'VBN', 'DT', 'NN', 'IN', 'NNS', ...\n",
       "4    ('PRP', 'VBD', 'RB', 'PRP', 'VBD', 'IN', 'DT',...\n",
       "Name: pos_tag, dtype: object"
      ]
     },
     "execution_count": 10,
     "metadata": {},
     "output_type": "execute_result"
    }
   ],
   "source": [
    "df.pos_tag.head()"
   ]
  },
  {
   "cell_type": "code",
   "execution_count": 11,
   "metadata": {},
   "outputs": [],
   "source": [
    "df_train, df_test = test_train_split(df)\n",
    "train_tfid, test_tfid, vocabulary =  tfid(train = df_train.pos_tag, test = df_test.pos_tag, n_gram_range=1)\n",
    "method = RandomForestClassifier(\n",
    "        max_depth = 7,\n",
    "        random_state = 42,\n",
    "        class_weight = \"balanced_subsample\",\n",
    "    )\n",
    "pred_train, pred_test = predict_it(train_tfid, df_train.Verdict, test_tfid, method = method) \n"
   ]
  },
  {
   "cell_type": "code",
   "execution_count": 12,
   "metadata": {},
   "outputs": [],
   "source": [
    "df_score_test = pd.concat([df_score_test, score_it(df_test.Verdict, pred_test, algorithm = 'RandomForrest', features = 'POS-tagging')])\n",
    "df_score_train = pd.concat([df_score_train, score_it(df_train.Verdict, pred_train, algorithm = 'RandomForrest', features = 'POS-tagging')])"
   ]
  },
  {
   "cell_type": "code",
   "execution_count": 13,
   "metadata": {},
   "outputs": [
    {
     "data": {
      "text/html": [
       "<div>\n",
       "<style scoped>\n",
       "    .dataframe tbody tr th:only-of-type {\n",
       "        vertical-align: middle;\n",
       "    }\n",
       "\n",
       "    .dataframe tbody tr th {\n",
       "        vertical-align: top;\n",
       "    }\n",
       "\n",
       "    .dataframe thead th {\n",
       "        text-align: right;\n",
       "    }\n",
       "</style>\n",
       "<table border=\"1\" class=\"dataframe\">\n",
       "  <thead>\n",
       "    <tr style=\"text-align: right;\">\n",
       "      <th></th>\n",
       "      <th>alogrithm</th>\n",
       "      <th>features</th>\n",
       "      <th>p_NFS</th>\n",
       "      <th>p_UFS</th>\n",
       "      <th>p_CFS</th>\n",
       "      <th>p_wavg</th>\n",
       "      <th>r_NFS</th>\n",
       "      <th>r_UFS</th>\n",
       "      <th>r_CFS</th>\n",
       "      <th>r_wavg</th>\n",
       "      <th>f_NFS</th>\n",
       "      <th>f_UFS</th>\n",
       "      <th>f_CFS</th>\n",
       "      <th>f_wavg</th>\n",
       "    </tr>\n",
       "  </thead>\n",
       "  <tbody>\n",
       "    <tr>\n",
       "      <th>0</th>\n",
       "      <td>RandomForrest</td>\n",
       "      <td>Sentiment, Length</td>\n",
       "      <td>0.705449</td>\n",
       "      <td>0.132019</td>\n",
       "      <td>0.391041</td>\n",
       "      <td>0.555236</td>\n",
       "      <td>0.433615</td>\n",
       "      <td>0.354735</td>\n",
       "      <td>0.453015</td>\n",
       "      <td>0.429610</td>\n",
       "      <td>0.537096</td>\n",
       "      <td>0.192425</td>\n",
       "      <td>0.419753</td>\n",
       "      <td>0.465856</td>\n",
       "    </tr>\n",
       "    <tr>\n",
       "      <th>0</th>\n",
       "      <td>RandomForrest</td>\n",
       "      <td>POS-tagging</td>\n",
       "      <td>0.804499</td>\n",
       "      <td>0.248355</td>\n",
       "      <td>0.519573</td>\n",
       "      <td>0.664133</td>\n",
       "      <td>0.733856</td>\n",
       "      <td>0.484751</td>\n",
       "      <td>0.409537</td>\n",
       "      <td>0.618684</td>\n",
       "      <td>0.767556</td>\n",
       "      <td>0.328439</td>\n",
       "      <td>0.458039</td>\n",
       "      <td>0.634246</td>\n",
       "    </tr>\n",
       "  </tbody>\n",
       "</table>\n",
       "</div>"
      ],
      "text/plain": [
       "       alogrithm           features     p_NFS     p_UFS     p_CFS    p_wavg  \\\n",
       "0  RandomForrest  Sentiment, Length  0.705449  0.132019  0.391041  0.555236   \n",
       "0  RandomForrest        POS-tagging  0.804499  0.248355  0.519573  0.664133   \n",
       "\n",
       "      r_NFS     r_UFS     r_CFS    r_wavg     f_NFS     f_UFS     f_CFS  \\\n",
       "0  0.433615  0.354735  0.453015  0.429610  0.537096  0.192425  0.419753   \n",
       "0  0.733856  0.484751  0.409537  0.618684  0.767556  0.328439  0.458039   \n",
       "\n",
       "     f_wavg  \n",
       "0  0.465856  \n",
       "0  0.634246  "
      ]
     },
     "execution_count": 13,
     "metadata": {},
     "output_type": "execute_result"
    }
   ],
   "source": [
    "df_score_test"
   ]
  },
  {
   "cell_type": "code",
   "execution_count": 14,
   "metadata": {},
   "outputs": [
    {
     "data": {
      "text/html": [
       "<div>\n",
       "<style scoped>\n",
       "    .dataframe tbody tr th:only-of-type {\n",
       "        vertical-align: middle;\n",
       "    }\n",
       "\n",
       "    .dataframe tbody tr th {\n",
       "        vertical-align: top;\n",
       "    }\n",
       "\n",
       "    .dataframe thead th {\n",
       "        text-align: right;\n",
       "    }\n",
       "</style>\n",
       "<table border=\"1\" class=\"dataframe\">\n",
       "  <thead>\n",
       "    <tr style=\"text-align: right;\">\n",
       "      <th></th>\n",
       "      <th>alogrithm</th>\n",
       "      <th>features</th>\n",
       "      <th>p_NFS</th>\n",
       "      <th>p_UFS</th>\n",
       "      <th>p_CFS</th>\n",
       "      <th>p_wavg</th>\n",
       "      <th>r_NFS</th>\n",
       "      <th>r_UFS</th>\n",
       "      <th>r_CFS</th>\n",
       "      <th>r_wavg</th>\n",
       "      <th>f_NFS</th>\n",
       "      <th>f_UFS</th>\n",
       "      <th>f_CFS</th>\n",
       "      <th>f_wavg</th>\n",
       "    </tr>\n",
       "  </thead>\n",
       "  <tbody>\n",
       "    <tr>\n",
       "      <th>0</th>\n",
       "      <td>RandomForrest</td>\n",
       "      <td>Sentiment, Lenght</td>\n",
       "      <td>0.801037</td>\n",
       "      <td>0.148975</td>\n",
       "      <td>0.360263</td>\n",
       "      <td>0.632406</td>\n",
       "      <td>0.421170</td>\n",
       "      <td>0.351058</td>\n",
       "      <td>0.636450</td>\n",
       "      <td>0.464117</td>\n",
       "      <td>0.552071</td>\n",
       "      <td>0.209182</td>\n",
       "      <td>0.460091</td>\n",
       "      <td>0.495904</td>\n",
       "    </tr>\n",
       "    <tr>\n",
       "      <th>0</th>\n",
       "      <td>RandomForrest</td>\n",
       "      <td>POS-tagging</td>\n",
       "      <td>0.879003</td>\n",
       "      <td>0.317390</td>\n",
       "      <td>0.544022</td>\n",
       "      <td>0.744146</td>\n",
       "      <td>0.737151</td>\n",
       "      <td>0.583288</td>\n",
       "      <td>0.596686</td>\n",
       "      <td>0.688883</td>\n",
       "      <td>0.801852</td>\n",
       "      <td>0.411090</td>\n",
       "      <td>0.569139</td>\n",
       "      <td>0.708104</td>\n",
       "    </tr>\n",
       "  </tbody>\n",
       "</table>\n",
       "</div>"
      ],
      "text/plain": [
       "       alogrithm           features     p_NFS     p_UFS     p_CFS    p_wavg  \\\n",
       "0  RandomForrest  Sentiment, Lenght  0.801037  0.148975  0.360263  0.632406   \n",
       "0  RandomForrest        POS-tagging  0.879003  0.317390  0.544022  0.744146   \n",
       "\n",
       "      r_NFS     r_UFS     r_CFS    r_wavg     f_NFS     f_UFS     f_CFS  \\\n",
       "0  0.421170  0.351058  0.636450  0.464117  0.552071  0.209182  0.460091   \n",
       "0  0.737151  0.583288  0.596686  0.688883  0.801852  0.411090  0.569139   \n",
       "\n",
       "     f_wavg  \n",
       "0  0.495904  \n",
       "0  0.708104  "
      ]
     },
     "execution_count": 14,
     "metadata": {},
     "output_type": "execute_result"
    }
   ],
   "source": [
    "df_score_train"
   ]
  },
  {
   "attachments": {},
   "cell_type": "markdown",
   "metadata": {},
   "source": [
    "Better than just using sentiment and length, but still worse than the baseline model. "
   ]
  },
  {
   "cell_type": "code",
   "execution_count": 15,
   "metadata": {},
   "outputs": [],
   "source": [
    "a = pd.DataFrame(train_tfid.toarray(), columns = vocabulary)"
   ]
  },
  {
   "cell_type": "code",
   "execution_count": 16,
   "metadata": {},
   "outputs": [],
   "source": [
    "a['Verdict'] = df_train.Verdict.values"
   ]
  },
  {
   "cell_type": "code",
   "execution_count": 17,
   "metadata": {},
   "outputs": [
    {
     "data": {
      "text/plain": [
       "Index(['cd', 'in', 'md', 'nnp', 'prp', 'vb', 'vbd', 'vbp', 'Verdict'], dtype='object')"
      ]
     },
     "execution_count": 17,
     "metadata": {},
     "output_type": "execute_result"
    }
   ],
   "source": [
    "a.columns[a[a.columns].corr()['Verdict'].abs() > 0.15]"
   ]
  },
  {
   "cell_type": "code",
   "execution_count": 18,
   "metadata": {},
   "outputs": [
    {
     "data": {
      "text/plain": [
       "vbd    0.297538\n",
       "vb     0.271225\n",
       "cd     0.215290\n",
       "nnp    0.209826\n",
       "vbp    0.195247\n",
       "prp    0.171471\n",
       "md     0.170495\n",
       "in     0.153179\n",
       "to     0.143571\n",
       "Name: Verdict, dtype: float64"
      ]
     },
     "execution_count": 18,
     "metadata": {},
     "output_type": "execute_result"
    }
   ],
   "source": [
    "a[a.columns].corr()['Verdict'].abs().sort_values(ascending = False)[1:10]\n"
   ]
  },
  {
   "attachments": {},
   "cell_type": "markdown",
   "metadata": {},
   "source": [
    "The most predictive categories are \"vbd, vb, cd, nnp, vbp, prp, md, and in\". These represent verbs, digits, proper nouns, personal noun, modal, and preposition. This seems logical. The least predictive categories are \"rbs, ex, fw, uh, rbr\" they are the adverbs, existential, foreign words, and interjections. Again this makes logical sense, interjections like \"hmm\" and \"erm\" are probably more person dependent and less dependent on the type of sentence. "
   ]
  },
  {
   "attachments": {},
   "cell_type": "markdown",
   "metadata": {},
   "source": [
    "## Combining methods (pos_tagging and sentiment & lenght)"
   ]
  },
  {
   "cell_type": "code",
   "execution_count": 19,
   "metadata": {},
   "outputs": [],
   "source": [
    "pos_train = pd.DataFrame(train_tfid.toarray(), columns = vocabulary)\n",
    "pos_test = pd.DataFrame(test_tfid.toarray(), columns = vocabulary)"
   ]
  },
  {
   "cell_type": "code",
   "execution_count": 23,
   "metadata": {},
   "outputs": [],
   "source": [
    "df_train.reset_index(inplace = True, drop = True)\n",
    "pos_train.reset_index(inplace = True, drop = True)\n",
    "df_test.reset_index(inplace = True, drop = True)\n",
    "pos_test.reset_index(inplace = True, drop = True)"
   ]
  },
  {
   "cell_type": "code",
   "execution_count": 24,
   "metadata": {},
   "outputs": [],
   "source": [
    "df_train_pos = df_train.join(pos_train)\n",
    "df_test_pos = df_test.join(pos_test)"
   ]
  },
  {
   "cell_type": "code",
   "execution_count": 27,
   "metadata": {},
   "outputs": [],
   "source": [
    "train_cols = ['Length', 'Sentiment', 'cc', 'cd', 'dt', 'ex', 'fw', 'in', 'jj', 'jjr',\n",
    "       'jjs', 'md', 'nn', 'nnp', 'nnps', 'nns', 'pdt', 'prp', 'rb', 'rbr',\n",
    "       'rbs', 'rp', 'to', 'uh', 'vb', 'vbd', 'vbg', 'vbn', 'vbp', 'vbz', 'wdt',\n",
    "       'wp', 'wrb']"
   ]
  },
  {
   "cell_type": "code",
   "execution_count": 29,
   "metadata": {},
   "outputs": [],
   "source": [
    "method = method=RandomForestClassifier(max_depth = 5,\n",
    "        random_state = 42,\n",
    "        class_weight = \"balanced_subsample\",\n",
    "    )\n",
    "pred_train, pred_test = predict_it(df_train_pos[train_cols], df_train_pos.Verdict, df_test_pos[train_cols], method = method)\n",
    "df_score_test = score_it(df_test_pos.Verdict, pred_test, features = 'Sentiment, Length, pos_tag')\n",
    "df_score_train = score_it(df_train_pos.Verdict, pred_train, features = 'Sentiment, Lenght, pos_tag')"
   ]
  },
  {
   "cell_type": "code",
   "execution_count": 30,
   "metadata": {},
   "outputs": [
    {
     "data": {
      "text/html": [
       "<div>\n",
       "<style scoped>\n",
       "    .dataframe tbody tr th:only-of-type {\n",
       "        vertical-align: middle;\n",
       "    }\n",
       "\n",
       "    .dataframe tbody tr th {\n",
       "        vertical-align: top;\n",
       "    }\n",
       "\n",
       "    .dataframe thead th {\n",
       "        text-align: right;\n",
       "    }\n",
       "</style>\n",
       "<table border=\"1\" class=\"dataframe\">\n",
       "  <thead>\n",
       "    <tr style=\"text-align: right;\">\n",
       "      <th></th>\n",
       "      <th>alogrithm</th>\n",
       "      <th>features</th>\n",
       "      <th>p_NFS</th>\n",
       "      <th>p_UFS</th>\n",
       "      <th>p_CFS</th>\n",
       "      <th>p_wavg</th>\n",
       "      <th>r_NFS</th>\n",
       "      <th>r_UFS</th>\n",
       "      <th>r_CFS</th>\n",
       "      <th>r_wavg</th>\n",
       "      <th>f_NFS</th>\n",
       "      <th>f_UFS</th>\n",
       "      <th>f_CFS</th>\n",
       "      <th>f_wavg</th>\n",
       "    </tr>\n",
       "  </thead>\n",
       "  <tbody>\n",
       "    <tr>\n",
       "      <th>0</th>\n",
       "      <td>RandomForrest</td>\n",
       "      <td>Sentiment, Length, pos_tag</td>\n",
       "      <td>0.806791</td>\n",
       "      <td>0.240712</td>\n",
       "      <td>0.521314</td>\n",
       "      <td>0.665125</td>\n",
       "      <td>0.716958</td>\n",
       "      <td>0.499197</td>\n",
       "      <td>0.411641</td>\n",
       "      <td>0.610479</td>\n",
       "      <td>0.759227</td>\n",
       "      <td>0.324804</td>\n",
       "      <td>0.460031</td>\n",
       "      <td>0.629207</td>\n",
       "    </tr>\n",
       "  </tbody>\n",
       "</table>\n",
       "</div>"
      ],
      "text/plain": [
       "       alogrithm                    features     p_NFS     p_UFS     p_CFS  \\\n",
       "0  RandomForrest  Sentiment, Length, pos_tag  0.806791  0.240712  0.521314   \n",
       "\n",
       "     p_wavg     r_NFS     r_UFS     r_CFS    r_wavg     f_NFS     f_UFS  \\\n",
       "0  0.665125  0.716958  0.499197  0.411641  0.610479  0.759227  0.324804   \n",
       "\n",
       "      f_CFS    f_wavg  \n",
       "0  0.460031  0.629207  "
      ]
     },
     "execution_count": 30,
     "metadata": {},
     "output_type": "execute_result"
    }
   ],
   "source": [
    "df_score_test"
   ]
  },
  {
   "cell_type": "code",
   "execution_count": 31,
   "metadata": {},
   "outputs": [
    {
     "data": {
      "text/html": [
       "<div>\n",
       "<style scoped>\n",
       "    .dataframe tbody tr th:only-of-type {\n",
       "        vertical-align: middle;\n",
       "    }\n",
       "\n",
       "    .dataframe tbody tr th {\n",
       "        vertical-align: top;\n",
       "    }\n",
       "\n",
       "    .dataframe thead th {\n",
       "        text-align: right;\n",
       "    }\n",
       "</style>\n",
       "<table border=\"1\" class=\"dataframe\">\n",
       "  <thead>\n",
       "    <tr style=\"text-align: right;\">\n",
       "      <th></th>\n",
       "      <th>alogrithm</th>\n",
       "      <th>features</th>\n",
       "      <th>p_NFS</th>\n",
       "      <th>p_UFS</th>\n",
       "      <th>p_CFS</th>\n",
       "      <th>p_wavg</th>\n",
       "      <th>r_NFS</th>\n",
       "      <th>r_UFS</th>\n",
       "      <th>r_CFS</th>\n",
       "      <th>r_wavg</th>\n",
       "      <th>f_NFS</th>\n",
       "      <th>f_UFS</th>\n",
       "      <th>f_CFS</th>\n",
       "      <th>f_wavg</th>\n",
       "    </tr>\n",
       "  </thead>\n",
       "  <tbody>\n",
       "    <tr>\n",
       "      <th>0</th>\n",
       "      <td>RandomForrest</td>\n",
       "      <td>Sentiment, Lenght, pos_tag</td>\n",
       "      <td>0.874428</td>\n",
       "      <td>0.272415</td>\n",
       "      <td>0.511954</td>\n",
       "      <td>0.72908</td>\n",
       "      <td>0.710048</td>\n",
       "      <td>0.516007</td>\n",
       "      <td>0.587929</td>\n",
       "      <td>0.66197</td>\n",
       "      <td>0.783711</td>\n",
       "      <td>0.35658</td>\n",
       "      <td>0.547317</td>\n",
       "      <td>0.685419</td>\n",
       "    </tr>\n",
       "  </tbody>\n",
       "</table>\n",
       "</div>"
      ],
      "text/plain": [
       "       alogrithm                    features     p_NFS     p_UFS     p_CFS  \\\n",
       "0  RandomForrest  Sentiment, Lenght, pos_tag  0.874428  0.272415  0.511954   \n",
       "\n",
       "    p_wavg     r_NFS     r_UFS     r_CFS   r_wavg     f_NFS    f_UFS  \\\n",
       "0  0.72908  0.710048  0.516007  0.587929  0.66197  0.783711  0.35658   \n",
       "\n",
       "      f_CFS    f_wavg  \n",
       "0  0.547317  0.685419  "
      ]
     },
     "execution_count": 31,
     "metadata": {},
     "output_type": "execute_result"
    }
   ],
   "source": [
    "df_score_train"
   ]
  },
  {
   "attachments": {},
   "cell_type": "markdown",
   "metadata": {},
   "source": [
    "No big improvement with this"
   ]
  },
  {
   "attachments": {},
   "cell_type": "markdown",
   "metadata": {},
   "source": [
    "## Combining methods (pos tagging and stemming)"
   ]
  },
  {
   "cell_type": "code",
   "execution_count": null,
   "metadata": {},
   "outputs": [],
   "source": []
  },
  {
   "cell_type": "code",
   "execution_count": null,
   "metadata": {},
   "outputs": [],
   "source": []
  },
  {
   "cell_type": "code",
   "execution_count": null,
   "metadata": {},
   "outputs": [],
   "source": []
  },
  {
   "attachments": {},
   "cell_type": "markdown",
   "metadata": {},
   "source": [
    "## RandomForrest Named Entity Recognition"
   ]
  },
  {
   "cell_type": "code",
   "execution_count": 16,
   "metadata": {},
   "outputs": [],
   "source": [
    "import spacy\n",
    "import en_core_web_sm\n",
    "ner = spacy.load(\"en_core_web_sm\")"
   ]
  },
  {
   "cell_type": "code",
   "execution_count": 23,
   "metadata": {},
   "outputs": [
    {
     "name": "stdout",
     "output_type": "stream",
     "text": [
      "[('Massachusetts', 'GPE'), ('five', 'CARDINAL')]\n"
     ]
    }
   ],
   "source": [
    "doc = ner(df.Text.iloc[100])\n",
    "print([(X.text, X.label_) for X in doc.ents])"
   ]
  },
  {
   "attachments": {},
   "cell_type": "markdown",
   "metadata": {},
   "source": [
    "Just an example for how it works, need to write the code to make this for all the rows"
   ]
  }
 ],
 "metadata": {
  "kernelspec": {
   "display_name": "model",
   "language": "python",
   "name": "python3"
  },
  "language_info": {
   "codemirror_mode": {
    "name": "ipython",
    "version": 3
   },
   "file_extension": ".py",
   "mimetype": "text/x-python",
   "name": "python",
   "nbconvert_exporter": "python",
   "pygments_lexer": "ipython3",
   "version": "3.9.7"
  },
  "orig_nbformat": 4
 },
 "nbformat": 4,
 "nbformat_minor": 2
}
